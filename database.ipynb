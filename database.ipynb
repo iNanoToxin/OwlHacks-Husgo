{
 "cells": [
  {
   "cell_type": "code",
   "execution_count": 1,
   "metadata": {},
   "outputs": [],
   "source": [
    "import osmnx\n",
    "import networkx\n",
    "import pickle\n",
    "\n",
    "network_types = [\"bike\", \"walk\", \"drive\"]"
   ]
  },
  {
   "cell_type": "code",
   "execution_count": 23,
   "metadata": {},
   "outputs": [
    {
     "ename": "TypeError",
     "evalue": "cannot unpack non-iterable int object",
     "output_type": "error",
     "traceback": [
      "\u001b[1;31m---------------------------------------------------------------------------\u001b[0m",
      "\u001b[1;31mTypeError\u001b[0m                                 Traceback (most recent call last)",
      "Cell \u001b[1;32mIn[23], line 21\u001b[0m\n\u001b[0;32m      3\u001b[0m     graph \u001b[38;5;241m=\u001b[39m pickle\u001b[38;5;241m.\u001b[39mload(file)\n\u001b[0;32m      6\u001b[0m \u001b[38;5;66;03m# node_to_color = [1, 2]  # Replace with your specific node IDs\u001b[39;00m\n\u001b[0;32m      7\u001b[0m \u001b[38;5;66;03m# edge_to_color = [(1, 2), (2, 3)]  # Replace with your specific edge tuples\u001b[39;00m\n\u001b[0;32m      8\u001b[0m \n\u001b[1;32m   (...)\u001b[0m\n\u001b[0;32m     18\u001b[0m \u001b[38;5;66;03m# for edge in graph.edges:\u001b[39;00m\n\u001b[0;32m     19\u001b[0m \u001b[38;5;66;03m#     print(edge, graph.edges[edge])\u001b[39;00m\n\u001b[1;32m---> 21\u001b[0m u, v \u001b[38;5;241m=\u001b[39m \u001b[43mgraph\u001b[49m\u001b[38;5;241;43m.\u001b[39;49m\u001b[43medges\u001b[49m\u001b[43m[\u001b[49m\u001b[38;5;241;43m0\u001b[39;49m\u001b[43m]\u001b[49m[\u001b[38;5;241m0\u001b[39m], graph\u001b[38;5;241m.\u001b[39medges[\u001b[38;5;241m0\u001b[39m][\u001b[38;5;241m1\u001b[39m]\n\u001b[0;32m     22\u001b[0m edge_data \u001b[38;5;241m=\u001b[39m graph\u001b[38;5;241m.\u001b[39mget_edge_data(u, v)\n\u001b[0;32m     23\u001b[0m \u001b[38;5;28;01mif\u001b[39;00m edge_data \u001b[38;5;129;01mis\u001b[39;00m \u001b[38;5;28;01mNone\u001b[39;00m:\n",
      "File \u001b[1;32mc:\\Users\\dylan\\miniconda3\\envs\\ox\\Lib\\site-packages\\networkx\\classes\\reportviews.py:1359\u001b[0m, in \u001b[0;36mOutMultiEdgeView.__getitem__\u001b[1;34m(self, e)\u001b[0m\n\u001b[0;32m   1354\u001b[0m \u001b[38;5;28;01mif\u001b[39;00m \u001b[38;5;28misinstance\u001b[39m(e, \u001b[38;5;28mslice\u001b[39m):\n\u001b[0;32m   1355\u001b[0m     \u001b[38;5;28;01mraise\u001b[39;00m nx\u001b[38;5;241m.\u001b[39mNetworkXError(\n\u001b[0;32m   1356\u001b[0m         \u001b[38;5;124mf\u001b[39m\u001b[38;5;124m\"\u001b[39m\u001b[38;5;132;01m{\u001b[39;00m\u001b[38;5;28mtype\u001b[39m(\u001b[38;5;28mself\u001b[39m)\u001b[38;5;241m.\u001b[39m\u001b[38;5;18m__name__\u001b[39m\u001b[38;5;132;01m}\u001b[39;00m\u001b[38;5;124m does not support slicing, \u001b[39m\u001b[38;5;124m\"\u001b[39m\n\u001b[0;32m   1357\u001b[0m         \u001b[38;5;124mf\u001b[39m\u001b[38;5;124m\"\u001b[39m\u001b[38;5;124mtry list(G.edges)[\u001b[39m\u001b[38;5;132;01m{\u001b[39;00me\u001b[38;5;241m.\u001b[39mstart\u001b[38;5;132;01m}\u001b[39;00m\u001b[38;5;124m:\u001b[39m\u001b[38;5;132;01m{\u001b[39;00me\u001b[38;5;241m.\u001b[39mstop\u001b[38;5;132;01m}\u001b[39;00m\u001b[38;5;124m:\u001b[39m\u001b[38;5;132;01m{\u001b[39;00me\u001b[38;5;241m.\u001b[39mstep\u001b[38;5;132;01m}\u001b[39;00m\u001b[38;5;124m]\u001b[39m\u001b[38;5;124m\"\u001b[39m\n\u001b[0;32m   1358\u001b[0m     )\n\u001b[1;32m-> 1359\u001b[0m u, v, k \u001b[38;5;241m=\u001b[39m e\n\u001b[0;32m   1360\u001b[0m \u001b[38;5;28;01mreturn\u001b[39;00m \u001b[38;5;28mself\u001b[39m\u001b[38;5;241m.\u001b[39m_adjdict[u][v][k]\n",
      "\u001b[1;31mTypeError\u001b[0m: cannot unpack non-iterable int object"
     ]
    }
   ],
   "source": [
    "type = \"drive\"\n",
    "with open(f\"data/graphs/city_graph_{type}.pkl\", \"rb\") as file:\n",
    "    graph = pickle.load(file)\n",
    "\n",
    "\n",
    "# node_to_color = [1, 2]  # Replace with your specific node IDs\n",
    "# edge_to_color = [(1, 2), (2, 3)]  # Replace with your specific edge tuples\n",
    "\n",
    "# node_colors = [\"red\" if node in node_to_color else \"lightgray\" for node in graph.nodes]\n",
    "# edge_colors = [\"blue\" if edge in edge_to_color else \"lightgray\" for edge in graph.edges]\n",
    "\n",
    "# node_alphas = [1 if node in node_to_color else 0 for node in graph.nodes]\n",
    "# edge_alphas = [1 if edge in edge_to_color else 0 for edge in graph.edges]\n",
    "\n",
    "# for node in graph.nodes:\n",
    "#     print(node, graph.nodes[node])\n",
    "\n",
    "# for edge in graph.edges:\n",
    "#     print(edge, graph.edges[edge])\n",
    "\n",
    "u, v = graph.edges[0][0], graph.edges[0][1]\n",
    "edge_data = graph.get_edge_data(u, v)\n",
    "if edge_data is None:\n",
    "    print(f\"No edge exists between nodes {u} and {v}.\")\n",
    "else:\n",
    "    print(f\"Edge data: {edge_data}\")\n",
    "\n",
    "osmnx.plot_graph_route(\n",
    "    graph,\n",
    "    [graph.edges[0][0], graph.edges[0][1]],\n",
    "    route_color=\"red\",\n",
    "    node_size=0.1,\n",
    "    edge_linewidth=0.1,\n",
    "    save=True,\n",
    "    filepath=f\"data/test_graph_{type}.png\",\n",
    ")\n"
   ]
  }
 ],
 "metadata": {
  "kernelspec": {
   "display_name": "ox",
   "language": "python",
   "name": "python3"
  },
  "language_info": {
   "codemirror_mode": {
    "name": "ipython",
    "version": 3
   },
   "file_extension": ".py",
   "mimetype": "text/x-python",
   "name": "python",
   "nbconvert_exporter": "python",
   "pygments_lexer": "ipython3",
   "version": "3.12.7"
  }
 },
 "nbformat": 4,
 "nbformat_minor": 2
}
